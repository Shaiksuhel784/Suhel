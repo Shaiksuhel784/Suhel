{
  "nbformat": 4,
  "nbformat_minor": 0,
  "metadata": {
    "colab": {
      "provenance": [],
      "authorship_tag": "ABX9TyMnqPkOcrCXgNQIcFQrGWb6",
      "include_colab_link": true
    },
    "kernelspec": {
      "name": "python3",
      "display_name": "Python 3"
    },
    "language_info": {
      "name": "python"
    }
  },
  "cells": [
    {
      "cell_type": "markdown",
      "metadata": {
        "id": "view-in-github",
        "colab_type": "text"
      },
      "source": [
        "<a href=\"https://colab.research.google.com/github/Shaiksuhel784/Suhel/blob/main/E_commerce.ipynb\" target=\"_parent\"><img src=\"https://colab.research.google.com/assets/colab-badge.svg\" alt=\"Open In Colab\"/></a>"
      ]
    },
    {
      "cell_type": "code",
      "source": [
        "products = {1: [\"Laptop\", 700], 2: [\"Phone\", 300], 3: [\"Watch\", 150]}\n",
        "cart = {}\n",
        "\n",
        "while True:\n",
        "    print(\"\\n1.View Products  2.Add to Cart  3.View Cart  4.Checkout  5.Exit\")\n",
        "    choice = input(\"Enter choice: \")\n",
        "\n",
        "    if choice == \"1\":\n",
        "        for id, item in products.items():\n",
        "            print(f\"{id}. {item[0]} - ${item[1]}\")\n",
        "    elif choice == \"2\":\n",
        "        pid = int(input(\"Product ID: \"))\n",
        "        qty = int(input(\"Quantity: \"))\n",
        "        cart[pid] = cart.get(pid, 0) + qty\n",
        "    elif choice == \"3\":\n",
        "        total = 0\n",
        "        print(\"\\nYour Cart:\")\n",
        "        for pid, qty in cart.items():\n",
        "            name, price = products[pid]\n",
        "            print(f\"{name} x{qty} = ${price*qty}\")\n",
        "            total += price * qty\n",
        "        print(f\"Total: ${total}\")\n",
        "    elif choice == \"4\":\n",
        "        print(\" Order placed!\")\n",
        "        cart.clear()\n",
        "    elif choice == \"5\":\n",
        "        break\n",
        "    else:\n",
        "        print(\"Invalid input.\")"
      ],
      "metadata": {
        "colab": {
          "base_uri": "https://localhost:8080/"
        },
        "id": "73CnIFXf8gfG",
        "outputId": "58534f32-de45-42c5-eda9-ec7a83b2ae4c"
      },
      "execution_count": 2,
      "outputs": [
        {
          "name": "stdout",
          "output_type": "stream",
          "text": [
            "\n",
            "1.View Products  2.Add to Cart  3.View Cart  4.Checkout  5.Exit\n",
            "Enter choice: 1\n",
            "1. Laptop - $700\n",
            "2. Phone - $300\n",
            "3. Watch - $150\n",
            "\n",
            "1.View Products  2.Add to Cart  3.View Cart  4.Checkout  5.Exit\n",
            "Enter choice: 2\n",
            "Product ID: 3\n",
            "Quantity: 4\n",
            "\n",
            "1.View Products  2.Add to Cart  3.View Cart  4.Checkout  5.Exit\n",
            "Enter choice: 5\n"
          ]
        }
      ]
    }
  ]
}