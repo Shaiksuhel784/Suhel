{
  "nbformat": 4,
  "nbformat_minor": 0,
  "metadata": {
    "colab": {
      "provenance": [],
      "authorship_tag": "ABX9TyOU0Zw9lcShalzjUv2Ir6Q+",
      "include_colab_link": true
    },
    "kernelspec": {
      "name": "python3",
      "display_name": "Python 3"
    },
    "language_info": {
      "name": "python"
    }
  },
  "cells": [
    {
      "cell_type": "markdown",
      "metadata": {
        "id": "view-in-github",
        "colab_type": "text"
      },
      "source": [
        "<a href=\"https://colab.research.google.com/github/Shaiksuhel784/Suhel/blob/main/Copy_of_Quiz_Game.ipynb\" target=\"_parent\"><img src=\"https://colab.research.google.com/assets/colab-badge.svg\" alt=\"Open In Colab\"/></a>"
      ]
    },
    {
      "cell_type": "code",
      "execution_count": 1,
      "metadata": {
        "colab": {
          "base_uri": "https://localhost:8080/"
        },
        "id": "PUk57CDb6W-P",
        "outputId": "e86c4b6c-285a-47ee-ec69-47f4702adda9"
      },
      "outputs": [
        {
          "output_type": "stream",
          "name": "stdout",
          "text": [
            "\n",
            "Question 1: What is the capital of France?\n",
            "a) London\n",
            "b) Paris\n",
            "c) Rome\n",
            "d) Madrid\n",
            "Enter your answer (a/b/c/d): A\n",
            "Wrong! The correct answer was 'b'.\n",
            "\n",
            "Question 2: What is 2 + 2?\n",
            "a) 3\n",
            "b) 4\n",
            "c) 5\n",
            "d) 6\n",
            "Enter your answer (a/b/c/d): B\n",
            " Correct!\n",
            "\n",
            "Question 3: Which planet is known as the Red Planet?\n",
            "a) Earth\n",
            "b) Venus\n",
            "c) Mars\n",
            "d) Jupiter\n",
            "Enter your answer (a/b/c/d): C\n",
            " Correct!\n",
            "\n",
            " Quiz Over! You scored 2 out of 3.\n"
          ]
        }
      ],
      "source": [
        "# Questions and answers\n",
        "questions = [\n",
        "    {\n",
        "        \"question\": \"What is the capital of France?\",\n",
        "        \"choices\": [\"a) London\", \"b) Paris\", \"c) Rome\", \"d) Madrid\"],\n",
        "        \"answer\": \"b\"\n",
        "    },\n",
        "    {\n",
        "        \"question\": \"What is 2 + 2?\",\n",
        "        \"choices\": [\"a) 3\", \"b) 4\", \"c) 5\", \"d) 6\"],\n",
        "        \"answer\": \"b\"\n",
        "    },\n",
        "    {\n",
        "        \"question\": \"Which planet is known as the Red Planet?\",\n",
        "        \"choices\": [\"a) Earth\", \"b) Venus\", \"c) Mars\", \"d) Jupiter\"],\n",
        "        \"answer\": \"c\"\n",
        "    }\n",
        "]\n",
        "\n",
        "score = 0\n",
        "\n",
        "# Loop through each question\n",
        "for i, q in enumerate(questions):\n",
        "    print(f\"\\nQuestion {i+1}: {q['question']}\")\n",
        "    for choice in q[\"choices\"]:\n",
        "        print(choice)\n",
        "\n",
        "    answer = input(\"Enter your answer (a/b/c/d): \").lower()\n",
        "\n",
        "    if answer == q[\"answer\"]:\n",
        "        print(\" Correct!\")\n",
        "        score += 1\n",
        "    else:\n",
        "        print(f\"Wrong! The correct answer was '{q['answer']}'.\")\n",
        "\n",
        "# Final score\n",
        "print(f\"\\n Quiz Over! You scored {score} out of {len(questions)}.\")"
      ]
    }
  ]
}